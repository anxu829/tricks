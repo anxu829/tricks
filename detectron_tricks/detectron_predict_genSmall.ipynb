{
 "cells": [
  {
   "cell_type": "code",
   "execution_count": 1,
   "metadata": {},
   "outputs": [],
   "source": [
    "from cut import main_cut\n"
   ]
  },
  {
   "cell_type": "markdown",
   "metadata": {},
   "source": [
    "# step 1 :cut your image"
   ]
  },
  {
   "cell_type": "code",
   "execution_count": 9,
   "metadata": {},
   "outputs": [],
   "source": [
    "!rm -rf /xuhan/data0903/0903_xuhan/img_cut/\n",
    "!mkdir /xuhan/data0903/0903_xuhan/img_cut/\n",
    "\n",
    "import os\n",
    "if __name__ == '__main__':\n",
    "    img_dir = r'/xuhan/data0903/0903_xuhan/xuhan/'\n",
    "    os.chdir(img_dir)\n",
    "    save_dir = r'/xuhan/data0903/0903_xuhan/img_cut/' # os.path.join(img_dir, 'processed')\n",
    "    main_cut(img_dir, save_dir, num_hor_pieces = 12, num_ver_pieces = 6, flag = 'jk_cengqian', mode = 'cut')\n"
   ]
  },
  {
   "cell_type": "markdown",
   "metadata": {},
   "source": [
    "# step 2 : use model to predict and gen csv"
   ]
  },
  {
   "cell_type": "code",
   "execution_count": 1,
   "metadata": {},
   "outputs": [
    {
     "data": {
      "text/plain": [
       "2891"
      ]
     },
     "execution_count": 1,
     "metadata": {},
     "output_type": "execute_result"
    }
   ],
   "source": [
    "import glob\n",
    "data = glob.glob('/xuan/data/xuhan_calssify/modelData8/img/*.jpg')\n",
    "len(data)\n"
   ]
  },
  {
   "cell_type": "code",
   "execution_count": 4,
   "metadata": {},
   "outputs": [
    {
     "name": "stdout",
     "output_type": "stream",
     "text": [
      "Found Detectron ops lib: /usr/local/caffe2_build/lib/libcaffe2_detectron_ops_gpu.so\n",
      "E0906 10:09:04.709204   204 init_intrinsics_check.cc:54] CPU feature avx is present on your machine, but the Caffe2 binary is not compiled with it. It means you may not get the full speed of your CPU.\n",
      "E0906 10:09:04.709230   204 init_intrinsics_check.cc:54] CPU feature avx2 is present on your machine, but the Caffe2 binary is not compiled with it. It means you may not get the full speed of your CPU.\n",
      "E0906 10:09:04.709234   204 init_intrinsics_check.cc:54] CPU feature fma is present on your machine, but the Caffe2 binary is not compiled with it. It means you may not get the full speed of your CPU.\n",
      "WARNING cnn.py:  40: [====DEPRECATE WARNING====]: you are creating an object from CNNModelHelper class which will be deprecated soon. Please use ModelHelper object with brew module. For more information, please refer to caffe2.ai and python/brew.py, python/brew_test.py for more information.\n",
      "INFO net.py:  57: Loading weights from: /xuhan/data_0905/mixedData/output/train/voc_2007_train/generalized_rcnn/model_final.pkl\n",
      "I0906 10:09:06.832120   204 net_dag_utils.cc:118] Operator graph pruning prior to chain compute took: 0.000120043 secs\n",
      "I0906 10:09:06.832294   204 net_dag.cc:61] Number of parallel execution chains 63 Number of operators = 232\n",
      "I0906 10:09:06.842164   204 net_dag_utils.cc:118] Operator graph pruning prior to chain compute took: 8.4402e-05 secs\n",
      "I0906 10:09:06.842298   204 net_dag.cc:61] Number of parallel execution chains 30 Number of operators = 188\n",
      "2868\n"
     ]
    }
   ],
   "source": [
    "\n",
    "!rm -rf /xuhan/data0903/0906_xuhan/img/\n",
    "!rm -rf /xuhan/data0903/0906_xuhan/xml/\n",
    "!rm -rf /xuhan/data0903/0906_xuhan/output/\n",
    "\n",
    "\n",
    "!mkdir /xuhan/data0903/0906_xuhan/img/\n",
    "!mkdir /xuhan/data0903/0906_xuhan/xml/\n",
    "!mkdir /xuhan/data0903/0906_xuhan/output/\n",
    "\n",
    "\n",
    "!python2 /xuhan/genData/infer_simple.py \\\n",
    "--cfg /xuhan/data_0905/mixedData/configs/getting_started/tutorial_1gpu_e2e_faster_rcnn_R-50-FPN.yaml \\\n",
    "--output-dir /xuhan/data0903/0906_xuhan/output/  \\\n",
    "--image-ext jpg  \\\n",
    "--threshold 0.90 \\\n",
    "--img-save /xuhan/data0903/0906_xuhan/img/ \\\n",
    "--wts /xuhan/data_0905/mixedData/output/train/voc_2007_train/generalized_rcnn/model_final.pkl \\\n",
    "--im_or_folder /xuan/data/xuhan_calssify/modelData8/img/\n",
    "\n",
    "# --im_or_folder /xuhan/data0903/0906_xuhan/img_cut/\n"
   ]
  },
  {
   "cell_type": "code",
   "execution_count": 5,
   "metadata": {},
   "outputs": [
    {
     "name": "stdout",
     "output_type": "stream",
     "text": [
      "3116\n"
     ]
    }
   ],
   "source": [
    "import pandas as pd\n",
    "from pandas.core.frame import DataFrame\n",
    "import xml.etree.ElementTree as ET\n",
    "from matplotlib import pyplot as plt\n",
    "data  = pd.read_csv('../data0906/result.csv')\n",
    "print(len(data))\n",
    "# data.loc[data.filename == '13C5A1180731110253372047_1x3.jpg',:]"
   ]
  },
  {
   "cell_type": "markdown",
   "metadata": {},
   "source": [
    "# step 3 : genXML\n"
   ]
  },
  {
   "cell_type": "code",
   "execution_count": 6,
   "metadata": {},
   "outputs": [],
   "source": [
    "!rm -rf  /xuhan/data0903/0906_xuhan/xml\n",
    "!mkdir /xuhan/data0903/0906_xuhan/xml\n",
    "import cv2\n",
    "import os\n",
    "\n",
    "\n",
    "# subdata.loc[:,['xmin','ymin','xmax','ymax']] = subdata.loc[:,['xmin','ymin','xmax','ymax']].astype(int)\n",
    "for filename ,subdata in data.groupby('filename'):\n",
    "    img = cv2.imread( '/xuhan/data0903/0906_xuhan/img/' + filename )\n",
    "    #print(img.shape)\n",
    "    subdata = subdata.copy()\n",
    "    subdata.loc[:,['xmin','ymin','xmax','ymax']] = subdata.loc[:,['xmin','ymin','xmax','ymax']].astype(int)\n",
    "    temp = ET.parse('./template.xml')\n",
    "    root = temp.getroot()\n",
    "\n",
    "    # modify file name\n",
    "    file = root.find('filename')\n",
    "    file.text =  filename\n",
    "\n",
    "    # modify path\n",
    "    path = root.find(\"path\")\n",
    "\n",
    "    path.text = filename\n",
    "\n",
    "    # modify size\n",
    "    width = root.find('.//size//width')\n",
    "    width.text = str(img.shape[1])\n",
    "    height = root.find('.//size//height')\n",
    "    height.text = str(img.shape[0])\n",
    "    depth = root.find('.//size//depth')\n",
    "    depth.text = str(img.shape[2])\n",
    "    for idx,bbox_info in  subdata.iterrows():\n",
    "\n",
    "        b = ET.SubElement(root, 'object')\n",
    "        name = ET.SubElement(b, 'name')\n",
    "        pose = ET.SubElement(b, 'pose')\n",
    "        bndbox = ET.SubElement(b, 'bndbox')\n",
    "        xmin = ET.SubElement(bndbox, 'xmin')\n",
    "        ymin = ET.SubElement(bndbox, 'ymin')\n",
    "        xmax = ET.SubElement(bndbox, 'xmax')\n",
    "        ymax = ET.SubElement(bndbox, 'ymax')\n",
    "\n",
    "        # 修改\n",
    "        name.text = str(bbox_info['class'])\n",
    "        pose.text = 'Unspecified'\n",
    "        xmin.text = str(bbox_info['xmin'])\n",
    "        ymin.text = str(bbox_info['ymin'])\n",
    "        xmax.text = str(bbox_info['xmax'])\n",
    "        ymax.text = str(bbox_info['ymax'])\n",
    "    #print('/xuhan/data0903/0903_xuhan/xml/'+ os.path.basename(filename).split('.')[0] +  '.xml')\n",
    "    temp.write('/xuhan/data0903/0906_xuhan/xml/'+ os.path.basename(filename).split('.')[0] +  '.xml')\n",
    "\n",
    "#     break"
   ]
  },
  {
   "cell_type": "code",
   "execution_count": null,
   "metadata": {},
   "outputs": [],
   "source": []
  },
  {
   "cell_type": "markdown",
   "metadata": {},
   "source": []
  }
 ],
 "metadata": {
  "kernelspec": {
   "display_name": "Python 2",
   "language": "python",
   "name": "python2"
  },
  "language_info": {
   "codemirror_mode": {
    "name": "ipython",
    "version": 2
   },
   "file_extension": ".py",
   "mimetype": "text/x-python",
   "name": "python",
   "nbconvert_exporter": "python",
   "pygments_lexer": "ipython2",
   "version": "2.7.12"
  }
 },
 "nbformat": 4,
 "nbformat_minor": 2
}
