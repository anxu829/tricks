{
 "cells": [
  {
   "cell_type": "code",
   "execution_count": 1,
   "metadata": {},
   "outputs": [
    {
     "name": "stdout",
     "output_type": "stream",
     "text": [
      "Cloning into 'caffe'...\n",
      "remote: Counting objects: 63568, done.\u001b[K\n",
      "remote: Total 63568 (delta 0), reused 0 (delta 0), pack-reused 63568\u001b[K\n",
      "Receiving objects: 100% (63568/63568), 65.64 MiB | 1.40 MiB/s, done.\n",
      "Resolving deltas: 100% (40242/40242), done.\n",
      "Checking connectivity... done.\n"
     ]
    }
   ],
   "source": [
    "# use  docker kaixhin/cuda-caffe:8.0\n",
    "# sudo docker stop imgRetrieval\n",
    "#sudo docker rm imgRetrieval\n",
    "#sudo nvidia-docker run --name imgRetrieval -it\\\n",
    "#        -v /data/el-train/TRAIN/mxnet_yinlieClassify/imgRetrieval:/imgRetrieval \\\n",
    "#        -p 14200:14200 \\\n",
    "#        anxu829/img_etrieval:withcaffe  /bin/bash  -c  \"cd / && jupyter notebook --port 14200 --ip 0.0.0.0 --allow-root\"\n",
    "\n",
    "!rm -rf ./caffe/\n",
    "!git clone https://github.com/BVLC/caffe.git"
   ]
  },
  {
   "cell_type": "code",
   "execution_count": 2,
   "metadata": {},
   "outputs": [
    {
     "name": "stdout",
     "output_type": "stream",
     "text": [
      "Cloning into 'deep-retrieval'...\n",
      "remote: Counting objects: 54, done.\u001b[K\n",
      "remote: Compressing objects: 100% (24/24), done.\u001b[K\n",
      "remote: Total 54 (delta 14), reused 26 (delta 8), pack-reused 22\u001b[K\n",
      "Unpacking objects: 100% (54/54), done.\n",
      "Checking connectivity... done.\n"
     ]
    }
   ],
   "source": [
    "!rm -rf ./deep-retrieval/\n",
    "!git clone  https://github.com/yypeng9468/deep-retrieval.git"
   ]
  },
  {
   "cell_type": "code",
   "execution_count": 3,
   "metadata": {},
   "outputs": [
    {
     "name": "stdout",
     "output_type": "stream",
     "text": [
      "test_command\t       prototxt\t\t    custom_layers.py\r\n",
      "test.py\t\t       normalize_layer.hpp  caffe.proto\r\n",
      "roi_pooling_layer.hpp  normalize_layer.cu   caffe-deep-retrieval\r\n",
      "roi_pooling_layer.cu   normalize_layer.cpp  README.md\r\n",
      "roi_pooling_layer.cpp  custom_layers.pyc    LICENSE.txt\r\n"
     ]
    }
   ],
   "source": [
    "!ls -r ./deep-retrieval/"
   ]
  },
  {
   "cell_type": "markdown",
   "metadata": {},
   "source": [
    "# 移动文件"
   ]
  },
  {
   "cell_type": "code",
   "execution_count": 4,
   "metadata": {},
   "outputs": [],
   "source": [
    "!cd /imgRetrieval/start_caffe/deep-retrieval/\n",
    "!cp ./deep-retrieval/*.hpp /root/caffe/include/caffe/layers/\n",
    "!cp ./deep-retrieval/*.cu ./deep-retrieval/*.cpp /root/caffe/src/caffe/"
   ]
  },
  {
   "cell_type": "code",
   "execution_count": 5,
   "metadata": {},
   "outputs": [],
   "source": [
    "!cp ./deep-retrieval/caffe.proto /root/caffe/src/caffe/proto/caffe.proto"
   ]
  },
  {
   "cell_type": "markdown",
   "metadata": {},
   "source": [
    "# 编译"
   ]
  },
  {
   "cell_type": "code",
   "execution_count": 6,
   "metadata": {},
   "outputs": [],
   "source": [
    "!cp /root/caffe/Makefile.config.example /root/caffe/Makefile.config\n",
    "\n",
    "\n"
   ]
  },
  {
   "cell_type": "markdown",
   "metadata": {},
   "source": [
    "## alter line\n",
    "USE_CUDNN := 1\n",
    "\n",
    "OPENCV_VERSION := 3\n",
    "\n",
    "WITH_PYTHON_LAYER := 1\n",
    "\n",
    "INCLUDE_DIRS := $(PYTHON_INCLUDE) /usr/local/include /usr/include/hdf5/serial/\n",
    "\n",
    "LIBRARY_DIRS := $(PYTHON_LIB) /usr/local/lib /usr/lib /usr/lib/x86_64-linux-gnu/hdf5/serial\n"
   ]
  },
  {
   "cell_type": "markdown",
   "metadata": {},
   "source": [
    "# alter makefile\n"
   ]
  },
  {
   "cell_type": "markdown",
   "metadata": {},
   "source": [
    "LIBRARIES += glog gflags protobuf leveldb snappy \\\n",
    "        lmdb \\\n",
    "        boost_system \\\n",
    "        hdf5_serial_hl hdf5_serial \\\n",
    "        opencv_core opencv_highgui opencv_imgproc opencv_imgcodecs"
   ]
  },
  {
   "cell_type": "markdown",
   "metadata": {},
   "source": [
    "# build\n"
   ]
  },
  {
   "cell_type": "code",
   "execution_count": 1,
   "metadata": {},
   "outputs": [],
   "source": [
    "!cd ./caffe/ && make clean && mkdir build\n",
    "!cd ./caffe/build && cmake .. && make  all -j 12 && make pycaffe -j 12 &&  make install"
   ]
  },
  {
   "cell_type": "code",
   "execution_count": null,
   "metadata": {},
   "outputs": [],
   "source": []
  }
 ],
 "metadata": {
  "kernelspec": {
   "display_name": "Python 2",
   "language": "python",
   "name": "python2"
  },
  "language_info": {
   "codemirror_mode": {
    "name": "ipython",
    "version": 2
   },
   "file_extension": ".py",
   "mimetype": "text/x-python",
   "name": "python",
   "nbconvert_exporter": "python",
   "pygments_lexer": "ipython2",
   "version": "2.7.12"
  }
 },
 "nbformat": 4,
 "nbformat_minor": 2
}
